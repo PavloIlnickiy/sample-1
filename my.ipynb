{
 "cells": [
  {
   "cell_type": "code",
   "execution_count": 1,
   "id": "09e33934",
   "metadata": {},
   "outputs": [
    {
     "name": "stdout",
     "output_type": "stream",
     "text": [
      "Hello, 5.5, 5.\n",
      "\tHello\n",
      "\n",
      "\tHello\n",
      "John's \\book\n",
      "\n",
      "\tHello\n"
     ]
    }
   ],
   "source": [
    "print(\"Hello\", 5.5, 5, sep=\", \", end=\".\")\n",
    "print(\"\\n\\tHello\")\n",
    "print(\"\\n\\tHello\")\n",
    "print('John\\'s \\\\book')\n",
    "print(\"\\n\\tHello\")\n"
   ]
  },
  {
   "cell_type": "code",
   "execution_count": null,
   "id": "a7e62084",
   "metadata": {},
   "outputs": [
    {
     "name": "stdout",
     "output_type": "stream",
     "text": [
      "5\n"
     ]
    }
   ],
   "source": [
    "number = 5 # int\n",
    "print(number)"
   ]
  },
  {
   "cell_type": "code",
   "execution_count": 4,
   "id": "98016984",
   "metadata": {},
   "outputs": [
    {
     "name": "stdout",
     "output_type": "stream",
     "text": [
      "Value 455.76\n"
     ]
    }
   ],
   "source": [
    "num = 455.76 # float\n",
    "print(\"Value\", num)"
   ]
  },
  {
   "cell_type": "code",
   "execution_count": 5,
   "id": "2f9123bb",
   "metadata": {},
   "outputs": [],
   "source": [
    "number =\"Info\"\n"
   ]
  },
  {
   "cell_type": "code",
   "execution_count": null,
   "id": "b1068cb0",
   "metadata": {},
   "outputs": [],
   "source": [
    "a = input(\"Enter num 1: \")\n",
    "b = input(\"Enter num 2: \") # string\n"
   ]
  }
 ],
 "metadata": {
  "kernelspec": {
   "display_name": "Python 3",
   "language": "python",
   "name": "python3"
  },
  "language_info": {
   "codemirror_mode": {
    "name": "ipython",
    "version": 3
   },
   "file_extension": ".py",
   "mimetype": "text/x-python",
   "name": "python",
   "nbconvert_exporter": "python",
   "pygments_lexer": "ipython3",
   "version": "3.11.9"
  }
 },
 "nbformat": 4,
 "nbformat_minor": 5
}
